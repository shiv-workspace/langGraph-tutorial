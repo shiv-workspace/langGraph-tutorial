{
 "cells": [
  {
   "cell_type": "code",
   "execution_count": 1,
   "id": "5399b051",
   "metadata": {},
   "outputs": [],
   "source": [
    "from typing import TypedDict\n",
    "from langgraph.graph import StateGraph"
   ]
  },
  {
   "cell_type": "code",
   "execution_count": 2,
   "id": "97dfb5a5",
   "metadata": {},
   "outputs": [],
   "source": [
    "class AgentState(TypedDict):\n",
    "    name : str\n",
    "    skills : str\n",
    "    age : str\n",
    "    final : str"
   ]
  },
  {
   "cell_type": "code",
   "execution_count": 11,
   "id": "69cab576",
   "metadata": {},
   "outputs": [],
   "source": [
    "def first_node(state: AgentState)->AgentState:\n",
    "    \"\"\"This is the first node in graph\"\"\"\n",
    "    \n",
    "    state['final'] = f\"{state['name']}, welcome to the system!\"\n",
    "    return state\n",
    "\n",
    "def second_node(state: AgentState)-> AgentState:\n",
    "    \"\"\"This is the second node of the graph\"\"\"\n",
    "    state['final'] = state[\"final\"] + f\" You are {state['age']} years old! \"\n",
    "    return state\n",
    "\n",
    "def third_node(state: AgentState)-> AgentState:\n",
    "    \"\"\"This is the third node of the graph\"\"\"\n",
    "    state['final'] = state[\"final\"] + f\" You have skills in : {state['skills']}\"\n",
    "    return state\n",
    "    "
   ]
  },
  {
   "cell_type": "code",
   "execution_count": 12,
   "id": "e7a2e426",
   "metadata": {},
   "outputs": [],
   "source": [
    "graph = StateGraph(AgentState)\n",
    "\n",
    "graph.add_node(\"first_node\", first_node)\n",
    "graph.add_node(\"second_node\", second_node)\n",
    "graph.add_node(\"third_node\", third_node)\n",
    "\n",
    "graph.set_entry_point(\"first_node\")\n",
    "graph.add_edge(\"first_node\", \"second_node\")\n",
    "graph.add_edge(\"second_node\", \"third_node\")\n",
    "graph.set_finish_point(\"third_node\")\n",
    "\n",
    "app = graph.compile()"
   ]
  },
  {
   "cell_type": "code",
   "execution_count": 13,
   "id": "05468c67",
   "metadata": {},
   "outputs": [
    {
     "name": "stdout",
     "output_type": "stream",
     "text": [
      "Shiv, welcome to the system! You are 28 years old!  You have skills in : Pyhton, Machine Learning, and LangGraph\n"
     ]
    }
   ],
   "source": [
    "result = app.invoke({\"name\": \"Shiv\", \"age\" : \"28\", \"skills\": \"Pyhton, Machine Learning, and LangGraph\"})\n",
    "print(result['final'])"
   ]
  }
 ],
 "metadata": {
  "kernelspec": {
   "display_name": "langgraph-env",
   "language": "python",
   "name": "python3"
  },
  "language_info": {
   "codemirror_mode": {
    "name": "ipython",
    "version": 3
   },
   "file_extension": ".py",
   "mimetype": "text/x-python",
   "name": "python",
   "nbconvert_exporter": "python",
   "pygments_lexer": "ipython3",
   "version": "3.10.12"
  }
 },
 "nbformat": 4,
 "nbformat_minor": 5
}
