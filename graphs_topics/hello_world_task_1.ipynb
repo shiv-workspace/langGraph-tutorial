{
 "cells": [
  {
   "cell_type": "code",
   "execution_count": 2,
   "id": "c8a28ede",
   "metadata": {},
   "outputs": [],
   "source": [
    "from typing import TypedDict\n",
    "from langgraph.graph import StateGraph"
   ]
  },
  {
   "cell_type": "code",
   "execution_count": 3,
   "id": "7e0e2552",
   "metadata": {},
   "outputs": [],
   "source": [
    "class AgentState(TypedDict):\n",
    "    name : str\n",
    "    \n",
    "\n",
    "def compliment_node(state: AgentState)-> AgentState:\n",
    "    \"\"\"Simple node that adds a greeting message to the state\"\"\"\n",
    "    state[\"name\"] = \"Hey \" + state[\"name\"] + \", You are doing amazing job learning langGraph\"\n",
    "    \n",
    "    return state"
   ]
  },
  {
   "cell_type": "code",
   "execution_count": 7,
   "id": "95d73cdb",
   "metadata": {},
   "outputs": [],
   "source": [
    "graph = StateGraph(AgentState)\n",
    "\n",
    "graph.add_node(\"compliment_node\", compliment_node)\n",
    "\n",
    "graph.set_entry_point(\"compliment_node\")\n",
    "graph.set_finish_point(\"compliment_node\")\n",
    "\n",
    "app = graph.compile()"
   ]
  },
  {
   "cell_type": "code",
   "execution_count": 10,
   "id": "cc2dec99",
   "metadata": {},
   "outputs": [
    {
     "data": {
      "image/png": "[encoded data removed]",
      "text/plain": [
       "<IPython.core.display.Image object>"
      ]
     },
     "metadata": {},
     "output_type": "display_data"
    }
   ],
   "source": [
    "from IPython.display import Image, display\n",
    "display(Image(app.get_graph().draw_mermaid_png()))"
   ]
  },
  {
   "cell_type": "code",
   "execution_count": 11,
   "id": "8853dbd4",
   "metadata": {},
   "outputs": [],
   "source": [
    "result = app.invoke({\"name\": \"shiv\"})"
   ]
  },
  {
   "cell_type": "code",
   "execution_count": 12,
   "id": "dcf3e86c",
   "metadata": {},
   "outputs": [
    {
     "data": {
      "text/plain": [
       "'Hey shiv, You are doing amazing job learning langGraph'"
      ]
     },
     "execution_count": 12,
     "metadata": {},
     "output_type": "execute_result"
    }
   ],
   "source": [
    "result[\"name\"]"
   ]
  }
 ],
 "metadata": {
  "kernelspec": {
   "display_name": "langgraph-env",
   "language": "python",
   "name": "python3"
  },
  "language_info": {
   "codemirror_mode": {
    "name": "ipython",
    "version": 3
   },
   "file_extension": ".py",
   "mimetype": "text/x-python",
   "name": "python",
   "nbconvert_exporter": "python",
   "pygments_lexer": "ipython3",
   "version": "3.10.12"
  }
 },
 "nbformat": 4,
 "nbformat_minor": 5
}
