{
 "cells": [
  {
   "cell_type": "code",
   "execution_count": 12,
   "id": "6d5fbcbf",
   "metadata": {},
   "outputs": [],
   "source": [
    "from typing import TypedDict, List\n",
    "from langgraph.graph import StateGraph\n",
    "import math"
   ]
  },
  {
   "cell_type": "code",
   "execution_count": 13,
   "id": "4c56b594",
   "metadata": {},
   "outputs": [],
   "source": [
    "class Agentstate(TypedDict):\n",
    "    name : str\n",
    "    values : List[int]\n",
    "    operation : str\n",
    "    result : str"
   ]
  },
  {
   "cell_type": "code",
   "execution_count": 14,
   "id": "fede1def",
   "metadata": {},
   "outputs": [],
   "source": [
    "def operation_node(state: Agentstate) -> Agentstate:\n",
    "    \"\"\"This function performs the operations based on the condition\"\"\"\n",
    "    \n",
    "    if state['operation'] == \"*\":\n",
    "        state[\"result\"] = f\"Hi {state['name']}, your answer is: {math.prod(state['values'])}\"\n",
    "    elif state['operation'] == \"+\":\n",
    "        state[\"result\"] = f\"Hi {state['name']}, your answer is: {sum(state['values'])}\"\n",
    "        \n",
    "    return state\n"
   ]
  },
  {
   "cell_type": "code",
   "execution_count": 15,
   "id": "a61e5386",
   "metadata": {},
   "outputs": [],
   "source": [
    "graph = StateGraph(Agentstate)\n",
    "\n",
    "graph.add_node(\"operation_node\", operation_node)\n",
    "graph.set_entry_point(\"operation_node\")\n",
    "graph.set_finish_point(\"operation_node\")\n",
    "\n",
    "app = graph.compile()\n"
   ]
  },
  {
   "cell_type": "code",
   "execution_count": 16,
   "id": "b66b6db3",
   "metadata": {},
   "outputs": [],
   "source": [
    "result = app.invoke({\"name\":\"shiv\", \"values\": [1,2,4,6], \"operation\": \"*\"})"
   ]
  },
  {
   "cell_type": "code",
   "execution_count": 17,
   "id": "580bdca6",
   "metadata": {},
   "outputs": [
    {
     "name": "stdout",
     "output_type": "stream",
     "text": [
      "Hi shiv, your answer is: 48\n"
     ]
    }
   ],
   "source": [
    "print(result[\"result\"])"
   ]
  }
 ],
 "metadata": {
  "kernelspec": {
   "display_name": "langgraph-env",
   "language": "python",
   "name": "python3"
  },
  "language_info": {
   "codemirror_mode": {
    "name": "ipython",
    "version": 3
   },
   "file_extension": ".py",
   "mimetype": "text/x-python",
   "name": "python",
   "nbconvert_exporter": "python",
   "pygments_lexer": "ipython3",
   "version": "3.10.12"
  }
 },
 "nbformat": 4,
 "nbformat_minor": 5
}
