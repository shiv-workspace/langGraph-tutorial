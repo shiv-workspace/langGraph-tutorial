{
 "cells": [
  {
   "cell_type": "code",
   "execution_count": null,
   "id": "151c5ad3",
   "metadata": {},
   "outputs": [],
   "source": [
    "from typing import TypedDict\n",
    "from langgraph.graph import StateGraph, START, END"
   ]
  },
  {
   "cell_type": "code",
   "execution_count": 2,
   "id": "45e72a9b",
   "metadata": {},
   "outputs": [],
   "source": [
    "class AgentState(TypedDict):\n",
    "    number1 : int\n",
    "    operation : str\n",
    "    number2 : int\n",
    "    finalNumber : int"
   ]
  },
  {
   "cell_type": "code",
   "execution_count": 4,
   "id": "89028b81",
   "metadata": {},
   "outputs": [],
   "source": [
    "def adder(state:AgentState)-> AgentState:\n",
    "    \"\"\"This is addition node\"\"\"\n",
    "    \n",
    "    state['finalNumber'] = state['number1'] + state['number2']\n",
    "    return state\n",
    "\n",
    "def substractor(state:AgentState)-> AgentState:\n",
    "    \"\"\"This is subtraction node\"\"\"\n",
    "    \n",
    "    state['finalNumber'] = state['number1'] - state['number2']\n",
    "    return state\n",
    "\n",
    "def decide_next_node(state: AgentState)-> AgentState:\n",
    "    \"\"\"This node will select the next node of the graph\"\"\"\n",
    "    \n",
    "    if state['operation'] == \"+\":\n",
    "        return \"addition_operation\"\n",
    "    \n",
    "    if state['operation'] == \"-\":\n",
    "        return \"subtraction_operation\""
   ]
  },
  {
   "cell_type": "code",
   "execution_count": 13,
   "id": "a474813f",
   "metadata": {},
   "outputs": [],
   "source": [
    "graph = StateGraph(AgentState)\n",
    "\n",
    "graph.add_node(\"add_node\", adder)\n",
    "graph.add_node(\"substract_node\", substractor)\n",
    "graph.add_node(\"router\", lambda state:state) # passthrough function\n",
    "\n",
    "graph.add_edge(START, \"router\")\n",
    "\n",
    "graph.add_conditional_edges(\n",
    "                            \"router\",\n",
    "                            decide_next_node,\n",
    "                            {\n",
    "                                # Edge: Node\n",
    "                                \"addition_operation\" : \"add_node\",\n",
    "                                \"subtraction_operation\" : \"substract_node\"\n",
    "                            }\n",
    ")\n",
    "\n",
    "\"\"\" \n",
    "Note:  Remove this sentence while running\n",
    "This is the conditional routing block. How it works:\n",
    "\n",
    "When the execution reaches the \"router\" node, langgraph will call the supplied decide_next_node function (passing the current state).\n",
    "\n",
    "decide_next_node returns a label (string) — e.g. \"addition_operation\" or \"subtraction_operation\".\n",
    "\n",
    "add_conditional_edges uses the mapping dict to map that label → a target node name. For example \"addition_operation\": \"add_node\" tells the graph that returning \"addition_operation\" should route to the node named \"add_node\".\n",
    "\n",
    "Execution then continues at that target node.\n",
    "\n",
    "Important: the keys of the mapping must exactly match the strings returned by decide_next_node. The mapping values are the node names you registered with add_node.\"\"\"\n",
    "\n",
    "graph.add_edge(\"add_node\", END)\n",
    "graph.add_edge(\"substract_node\", END)\n",
    "\n",
    "app = graph.compile()                      "
   ]
  },
  {
   "cell_type": "code",
   "execution_count": 14,
   "id": "6bf4f6ef",
   "metadata": {},
   "outputs": [
    {
     "data": {
      "image/png": "[encoded data removed]",
      "text/plain": [
       "<IPython.core.display.Image object>"
      ]
     },
     "metadata": {},
     "output_type": "display_data"
    }
   ],
   "source": [
    "from IPython.display import Image, display\n",
    "display(Image(app.get_graph().draw_mermaid_png()))"
   ]
  },
  {
   "cell_type": "code",
   "execution_count": 16,
   "id": "01567270",
   "metadata": {},
   "outputs": [
    {
     "name": "stdout",
     "output_type": "stream",
     "text": [
      "{'number1': 10, 'operation': '+', 'number2': 4, 'finalNumber': 14}\n"
     ]
    }
   ],
   "source": [
    "intial_state = AgentState(number1=10, operation=\"+\", number2=4)\n",
    "print(app.invoke(intial_state))"
   ]
  }
 ],
 "metadata": {
  "kernelspec": {
   "display_name": "langgraph-env",
   "language": "python",
   "name": "python3"
  },
  "language_info": {
   "codemirror_mode": {
    "name": "ipython",
    "version": 3
   },
   "file_extension": ".py",
   "mimetype": "text/x-python",
   "name": "python",
   "nbconvert_exporter": "python",
   "pygments_lexer": "ipython3",
   "version": "3.10.12"
  }
 },
 "nbformat": 4,
 "nbformat_minor": 5
}
