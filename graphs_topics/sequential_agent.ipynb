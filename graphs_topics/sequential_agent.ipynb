{
 "cells": [
  {
   "cell_type": "code",
   "execution_count": 8,
   "id": "6da4d529",
   "metadata": {},
   "outputs": [],
   "source": [
    "from typing import TypedDict\n",
    "from langgraph.graph import StateGraph"
   ]
  },
  {
   "cell_type": "code",
   "execution_count": 9,
   "id": "7f3aea63",
   "metadata": {},
   "outputs": [],
   "source": [
    "class AgentSate(TypedDict):\n",
    "    name : str\n",
    "    age : str\n",
    "    final : str"
   ]
  },
  {
   "cell_type": "code",
   "execution_count": 10,
   "id": "1d1cd878",
   "metadata": {},
   "outputs": [],
   "source": [
    "def first_node(state: AgentSate)->AgentSate:\n",
    "    \"\"\" This is the first node of the graph\"\"\"\n",
    "    \n",
    "    state[\"final\"] = f\"Hi {state['name']}!\"\n",
    "    return state\n",
    "\n",
    "def second_node(state: AgentSate)-> AgentSate:\n",
    "    \"\"\"This is the second node of the graph\"\"\"\n",
    "    \n",
    "    state['final'] = state['final'] + f\"You are {state['age']} years old.\"\n",
    "    \n",
    "    return state"
   ]
  },
  {
   "cell_type": "code",
   "execution_count": 13,
   "id": "2432d316",
   "metadata": {},
   "outputs": [],
   "source": [
    "graph = StateGraph(AgentSate)\n",
    "\n",
    "graph.add_node(\"first_node\", first_node)\n",
    "graph.add_node(\"second_node\", second_node)\n",
    "graph.set_entry_point(\"first_node\")\n",
    "graph.add_edge(\"first_node\", \"second_node\")\n",
    "graph.set_finish_point(\"second_node\")\n",
    "app = graph.compile()"
   ]
  },
  {
   "cell_type": "code",
   "execution_count": 15,
   "id": "b90a73a9",
   "metadata": {},
   "outputs": [
    {
     "name": "stdout",
     "output_type": "stream",
     "text": [
      "Hi shiv!You are 28 years old.\n"
     ]
    }
   ],
   "source": [
    "result = app.invoke({\"name\": \"shiv\", \"age\": \"28\"})\n",
    "print(result[\"final\"])"
   ]
  }
 ],
 "metadata": {
  "kernelspec": {
   "display_name": "langgraph-env",
   "language": "python",
   "name": "python3"
  },
  "language_info": {
   "codemirror_mode": {
    "name": "ipython",
    "version": 3
   },
   "file_extension": ".py",
   "mimetype": "text/x-python",
   "name": "python",
   "nbconvert_exporter": "python",
   "pygments_lexer": "ipython3",
   "version": "3.10.12"
  }
 },
 "nbformat": 4,
 "nbformat_minor": 5
}
