{
 "cells": [
  {
   "cell_type": "code",
   "execution_count": 51,
   "id": "1c298e24",
   "metadata": {},
   "outputs": [],
   "source": [
    "from typing import TypedDict\n",
    "from langgraph.graph import StateGraph, START, END"
   ]
  },
  {
   "cell_type": "code",
   "execution_count": 52,
   "id": "bedcc183",
   "metadata": {},
   "outputs": [],
   "source": [
    "class AgentState(TypedDict):\n",
    "    number1 : int\n",
    "    number2 : int\n",
    "    number3 : int\n",
    "    number4 : int\n",
    "    operation : str\n",
    "    operation2 : str\n",
    "    finalNumber : int\n",
    "    finalNumber2 : int\n",
    "    "
   ]
  },
  {
   "cell_type": "code",
   "execution_count": 53,
   "id": "23e43b52",
   "metadata": {},
   "outputs": [],
   "source": [
    "def adder(state: AgentState)-> AgentState:\n",
    "    \"\"\"This is the first adder method node\"\"\"\n",
    "    \n",
    "    state[\"finalNumber\"] = state[\"number1\"] + state[\"number2\"]\n",
    "    return state\n",
    "\n",
    "def subtractor(state: AgentState)-> AgentState:\n",
    "    \"\"\"This is the subtract adder method node\"\"\"\n",
    "    \n",
    "    state[\"finalNumber\"] = state[\"number1\"] - state[\"number2\"]\n",
    "    return state\n",
    "\n",
    "def decide_next_node(state: AgentState)-> AgentState:\n",
    "    \"\"\" This is the router which decides which node should execute\"\"\"\n",
    "    \n",
    "    if state[\"operation\"] == \"+\":\n",
    "        return \"addition_operation\"\n",
    "    if state[\"operation\"] == \"-\":\n",
    "        return \"subtraction_operation\"\n",
    "    \n",
    "def adder2(state: AgentState)-> AgentState:\n",
    "    \"\"\"This is the second adder method node\"\"\"\n",
    "    \n",
    "    state[\"finalNumber2\"] = state[\"number3\"] + state[\"number4\"]\n",
    "    return state\n",
    "\n",
    "def subtractor2(state: AgentState)-> AgentState:\n",
    "    \"\"\"This is the second subtract adder method node\"\"\"\n",
    "    \n",
    "    state[\"finalNumber\"] = state[\"number3\"] - state[\"number4\"]\n",
    "    return state\n",
    "\n",
    "def decide_next_node2(state: AgentState)-> AgentState:\n",
    "    \"\"\" This is the router which decides which node should execute\"\"\"\n",
    "    \n",
    "    if state[\"operation2\"] == \"+\":\n",
    "        return \"addition_operation2\"\n",
    "    if state[\"operation2\"] == \"-\":\n",
    "        return \"subtraction_operation2\"\n",
    "\n",
    "    \n",
    "\n",
    "\n"
   ]
  },
  {
   "cell_type": "code",
   "execution_count": 54,
   "id": "e03e09e4",
   "metadata": {},
   "outputs": [],
   "source": [
    "graph = StateGraph(AgentState)\n",
    "\n",
    "graph.add_node(\"adder\", adder)\n",
    "graph.add_node(\"subtractor\", subtractor)\n",
    "graph.add_node(\"router\", lambda state:state)\n",
    "\n",
    "graph.add_node(\"adder2\", adder2)\n",
    "graph.add_node(\"subtractor2\", subtractor2)\n",
    "graph.add_node(\"router2\", lambda state:state)\n",
    "\n",
    "graph.add_edge(START, \"router\")\n",
    "\n",
    "graph.add_conditional_edges(\n",
    "    \"router\",\n",
    "    decide_next_node,\n",
    "    {\n",
    "        \"addition_operation\" : \"adder\",\n",
    "        \"subtraction_operation\" : \"subtractor\"\n",
    "    }\n",
    ")\n",
    "\n",
    "graph.add_edge(\"adder\", \"router2\")\n",
    "graph.add_edge(\"subtractor\", \"router2\")\n",
    "\n",
    "graph.add_conditional_edges(\n",
    "    \"router2\",\n",
    "    decide_next_node2,\n",
    "    {\n",
    "        \"addition_operation2\" : \"adder2\",\n",
    "        \"subtraction_operation2\" : \"subtractor2\"\n",
    "    }\n",
    ")\n",
    "\n",
    "graph.add_edge(\"adder2\", END)\n",
    "graph.add_edge(\"subtractor2\", END)\n",
    "\n",
    "\n",
    "app = graph.compile()"
   ]
  },
  {
   "cell_type": "code",
   "execution_count": 55,
   "id": "c8ffb968",
   "metadata": {},
   "outputs": [],
   "source": [
    "initial_state = AgentState(number1 = 10, operation=\"-\", number2 = 5, number3 = 7, number4=2, operation2=\"+\", finalNumber= 0, finalNumber2 = 0)\n"
   ]
  },
  {
   "cell_type": "code",
   "execution_count": 56,
   "id": "d9db7599",
   "metadata": {},
   "outputs": [
    {
     "name": "stdout",
     "output_type": "stream",
     "text": [
      "{'number1': 10, 'number2': 5, 'number3': 7, 'number4': 2, 'operation': '-', 'operation2': '+', 'finalNumber': 5, 'finalNumber2': 9}\n"
     ]
    }
   ],
   "source": [
    "print(app.invoke(initial_state))\n"
   ]
  }
 ],
 "metadata": {
  "kernelspec": {
   "display_name": "langgraph-env",
   "language": "python",
   "name": "python3"
  },
  "language_info": {
   "codemirror_mode": {
    "name": "ipython",
    "version": 3
   },
   "file_extension": ".py",
   "mimetype": "text/x-python",
   "name": "python",
   "nbconvert_exporter": "python",
   "pygments_lexer": "ipython3",
   "version": "3.10.12"
  }
 },
 "nbformat": 4,
 "nbformat_minor": 5
}
